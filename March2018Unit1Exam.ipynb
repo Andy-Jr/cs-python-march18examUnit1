{
 "cells": [
  {
   "cell_type": "markdown",
   "metadata": {},
   "source": [
    "# March 2018 Unit 1: Principles of Computer Science"
   ]
  },
  {
   "cell_type": "markdown",
   "metadata": {},
   "source": [
    "## Question 1a: Built in Functions"
   ]
  },
  {
   "cell_type": "markdown",
   "metadata": {},
   "source": [
    "## INPUT"
   ]
  },
  {
   "cell_type": "code",
   "execution_count": null,
   "metadata": {},
   "outputs": [],
   "source": [
    "#amount of money needs to be entered\n",
    "amount = input(\"How much money do you want to save?\")\n",
    "print(\"You entered £\", amount)"
   ]
  },
  {
   "cell_type": "code",
   "execution_count": null,
   "metadata": {},
   "outputs": [],
   "source": [
    "#assume 10% interest\n",
    "interest = 0.1 \n",
    "final = amount + (amount * interest) \n",
    "# this code will crash - use a built-in function to fix the error"
   ]
  },
  {
   "cell_type": "code",
   "execution_count": null,
   "metadata": {},
   "outputs": [],
   "source": [
    "# the code above can still crash if the user enters non-numeric amounts\n",
    "# use a try/except block to fix this\n",
    "#try:\n",
    "#    <try the type conversion>\n",
    "#except ValueError:\n",
    "#    print(\"you did not enter a number for your saving amount\")"
   ]
  },
  {
   "cell_type": "markdown",
   "metadata": {},
   "source": [
    "## TRUNCATE (this chops off a number of digits and is not ROUNDING!)\n",
    "\n",
    "This is not straight forward in Python and there are no built-in functions.  \n",
    "You would have to import the math module\n",
    "The Python ```math``` module has 2 functions that are useful:\n",
    "\n",
    "- math.floor()\n",
    "- math.ceil() \n",
    "\n",
    "But they only work for division so you'd have to get creative and divide your number by the 10 to the power of the digits you'd want to truncate\n",
    "\n",
    "eg /100 (10 x 10) if you want to truncate 2 digits \n",
    "eg /10000 (10^4) if you want to truncate 4 digits\n",
    "etc"
   ]
  },
  {
   "cell_type": "code",
   "execution_count": null,
   "metadata": {},
   "outputs": [],
   "source": [
    "import math\n",
    "x = 1255\n",
    "print(math.floor(x/100))\n",
    "print(math.ceil(x/100))"
   ]
  },
  {
   "cell_type": "markdown",
   "metadata": {},
   "source": [
    "## extend the code above so that the divisor (100) is NOT hardcoded... \n",
    "\n",
    "allow the user to enter the number of digits they want truncated and work out the divisor from that"
   ]
  },
  {
   "cell_type": "markdown",
   "metadata": {},
   "source": [
    "## RANGE"
   ]
  },
  {
   "cell_type": "code",
   "execution_count": null,
   "metadata": {},
   "outputs": [],
   "source": [
    "#allow only the number between 1-20 to be entered\n",
    "inRange = False # assume its not in range\n",
    "while not inRange: \n",
    "    num= int(input(\"please enter your number\")) # no validation here - must fix!\n",
    "    if not num in range(1,21):\n",
    "        print(\"sorry that is not in range, please try again\")\n",
    "    else:\n",
    "        inRange = True\n",
    "\n",
    "print(\" Success - we have a number that is in range and its \", num)"
   ]
  },
  {
   "cell_type": "markdown",
   "metadata": {},
   "source": [
    "# QUESTION 1b - write the code for the flowchart"
   ]
  },
  {
   "cell_type": "code",
   "execution_count": null,
   "metadata": {},
   "outputs": [],
   "source": [
    "#number of bank accounts Sally wants to compare is entered\n",
    "\n",
    "# LOOP STARTS HERE - have we worked out total for all the bank accounts?\n",
    "\n",
    "#money to be saved is entered and stored in a variable\n",
    "\n",
    "#interest rate is entered and stored in a variable\n",
    "\n",
    "#interest is calculated : amount / 100 * interest rate\n",
    "\n",
    "#total is calculated by adding money to be saved plus interest\n",
    "\n",
    "#total for this bank account/interest rate is output\n",
    "\n",
    "#loop counter is incremented, either loop repeats or ends"
   ]
  },
  {
   "cell_type": "markdown",
   "metadata": {},
   "source": [
    "# CONTROL STRUCTURES\n",
    "\n",
    "- sequence (one statement after another in order)\n",
    "- selection (make a decision with and if statement)\n",
    "- iteration (loop - FOR (count controlled), WHILE (condition controlled)"
   ]
  },
  {
   "cell_type": "code",
   "execution_count": null,
   "metadata": {},
   "outputs": [],
   "source": [
    "#sequence - these statements are OUT of sequence, put them in the correct order\n",
    "human_years = dog_years * 7\n",
    "print(\"the answer is \", human_years)\n",
    "dog_years=input()\n",
    "print(\"how old is your dog?\")\n"
   ]
  },
  {
   "cell_type": "code",
   "execution_count": null,
   "metadata": {},
   "outputs": [],
   "source": [
    "# now add iteration to allow the user to work out dog years of more than one dog\n",
    "# note : a while loop is the one to use, as you don't know HOW MANY TIMES the user might\n",
    "# want to do this calculation!"
   ]
  },
  {
   "cell_type": "code",
   "execution_count": null,
   "metadata": {},
   "outputs": [],
   "source": [
    "# for loop practice\n",
    "for i in range (10):\n",
    "    print(\"in the loop, index = \", i)\n",
    "print(\"loop is finished and index = \", i)"
   ]
  },
  {
   "cell_type": "code",
   "execution_count": null,
   "metadata": {},
   "outputs": [],
   "source": [
    "# now write a loop that goes backwards from 10"
   ]
  },
  {
   "cell_type": "code",
   "execution_count": null,
   "metadata": {},
   "outputs": [],
   "source": [
    "# now write a loop that prints out every 5th number from 0-100 (incl)"
   ]
  },
  {
   "cell_type": "code",
   "execution_count": null,
   "metadata": {},
   "outputs": [],
   "source": [
    "# now write a loop that steps through every name in this list:\n",
    "myList = ['aardvark', 'antelope', 'alligator', 'alibaba', 'abalone']\n"
   ]
  },
  {
   "cell_type": "markdown",
   "metadata": {},
   "source": [
    "# VALIDATING DATA\n",
    "- range checks (see code above)\n",
    "- presence checks - is the data there in the first place?\n",
    "- length checks - is the input data the right length?\n",
    "- format checks - is the input data in the correct format eg email addresses, dates dd/mm/yy\n"
   ]
  },
  {
   "cell_type": "code",
   "execution_count": null,
   "metadata": {},
   "outputs": [],
   "source": [
    "#presence check - is it there?\n",
    "dataPresent = False #assume the user has not entered\n",
    "while not dataPresent:\n",
    "    data = input(\"please enter your data\")\n",
    "    if len(data) == 0:\n",
    "        print(\"please enter some data!\")\n",
    "    else:\n",
    "        dataPresent = True # yeah! we have some data\n",
    "        \n",
    "#when the loop exits we know we have some data!\n",
    "print(\"you entered ->\", data)"
   ]
  },
  {
   "cell_type": "code",
   "execution_count": 2,
   "metadata": {},
   "outputs": [
    {
     "name": "stdout",
     "output_type": "stream",
     "text": [
      "abcdefghijklmnopqrstuvwxyzABCDEFGHIJKLMNOPQRSTUVWXYZ\n"
     ]
    }
   ],
   "source": [
    "#adapt the code above to do a length check - eg check that 5 digits were entered \n",
    "#note: you need to check that there are 5 and that they are letters!\n",
    "\n",
    "import string # use the string module to define valid ASCII\n",
    "validDigits = string.ascii_letters\n",
    "print(validDigits)"
   ]
  },
  {
   "cell_type": "markdown",
   "metadata": {},
   "source": [
    "# Question 1e: PseudoCode\n",
    "\n",
    "Write the code, given the pseudocode, then answer the questions about the variables\n"
   ]
  },
  {
   "cell_type": "code",
   "execution_count": 3,
   "metadata": {},
   "outputs": [],
   "source": [
    "# sort accounts into ascending order\n"
   ]
  },
  {
   "cell_type": "markdown",
   "metadata": {},
   "source": [
    "# Question 2: Guess the sweets in the jar\n",
    "\n",
    "write Ella's Guess the sweets code and examine the use of dictionaries"
   ]
  },
  {
   "cell_type": "code",
   "execution_count": null,
   "metadata": {},
   "outputs": [],
   "source": [
    "#input guess function\n",
    "\n",
    "#store guess function\n",
    "\n",
    "#main menu function\n",
    "\n",
    "#MAIN PROGRAM"
   ]
  }
 ],
 "metadata": {
  "kernelspec": {
   "display_name": "Python 3",
   "language": "python",
   "name": "python3"
  },
  "language_info": {
   "codemirror_mode": {
    "name": "ipython",
    "version": 3
   },
   "file_extension": ".py",
   "mimetype": "text/x-python",
   "name": "python",
   "nbconvert_exporter": "python",
   "pygments_lexer": "ipython3",
   "version": "3.5.2"
  }
 },
 "nbformat": 4,
 "nbformat_minor": 2
}
